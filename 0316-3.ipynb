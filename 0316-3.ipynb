{
 "cells": [
  {
   "cell_type": "code",
   "execution_count": 1,
   "metadata": {},
   "outputs": [],
   "source": [
    "%matplotlib inline\n",
    "import numpy as np\n",
    "import matplotlib.pyplot as plt"
   ]
  },
  {
   "cell_type": "code",
   "execution_count": 2,
   "metadata": {},
   "outputs": [
    {
     "data": {
      "text/plain": [
       "array([[[51, 45, 82, 68, 62],\n",
       "        [42, 24, 70, 39,  1],\n",
       "        [24,  7, 86,  5, 74],\n",
       "        [67, 62, 55, 79, 93],\n",
       "        [86, 32, 92, 63, 48],\n",
       "        [72, 85, 53, 28, 41],\n",
       "        [84, 39, 99, 81, 35],\n",
       "        [59, 24, 71, 88, 71],\n",
       "        [16, 91, 90, 93, 24],\n",
       "        [78,  6, 98, 61, 83]],\n",
       "\n",
       "       [[ 1, 13, 56, 99, 27],\n",
       "        [91, 92, 37,  4, 23],\n",
       "        [64, 16, 64,  4, 77],\n",
       "        [15, 84, 36, 31, 50],\n",
       "        [56, 51,  0, 20, 36],\n",
       "        [11, 86, 19, 99, 46],\n",
       "        [53, 33, 90, 67, 93],\n",
       "        [59, 44, 33, 23,  9],\n",
       "        [76, 69, 76, 36,  7],\n",
       "        [ 1,  6, 70, 64, 44]],\n",
       "\n",
       "       [[ 7, 81,  8, 29, 97],\n",
       "        [70, 63, 43,  3, 20],\n",
       "        [44, 25,  9, 70, 21],\n",
       "        [76, 59, 95, 89, 34],\n",
       "        [78, 31, 36, 99, 16],\n",
       "        [43, 92, 19, 46, 59],\n",
       "        [33, 43, 84, 89, 93],\n",
       "        [28, 99, 99, 78, 78],\n",
       "        [13,  5,  1, 51, 65],\n",
       "        [33,  3, 24, 91, 14]]])"
      ]
     },
     "execution_count": 2,
     "metadata": {},
     "output_type": "execute_result"
    }
   ],
   "source": [
    "weights=[0.25,0.25,0.25,0.15,0.10]\n",
    "grades = np.random.randint(0,101,(3,10,5))\n",
    "grades"
   ]
  },
  {
   "cell_type": "code",
   "execution_count": 3,
   "metadata": {},
   "outputs": [
    {
     "data": {
      "text/plain": [
       "array([[60.9 , 39.95, 37.4 , 67.15, 66.75, 60.8 , 71.15, 58.8 , 65.6 ,\n",
       "        62.95],\n",
       "       [35.05, 57.9 , 44.3 , 43.4 , 33.35, 48.45, 63.35, 38.35, 61.35,\n",
       "        33.25],\n",
       "       [38.05, 46.45, 32.1 , 74.25, 52.7 , 51.3 , 62.65, 76.  , 18.9 ,\n",
       "        30.05]])"
      ]
     },
     "execution_count": 3,
     "metadata": {},
     "output_type": "execute_result"
    }
   ],
   "source": [
    "w_grades = np.dot( grades,weights )\n",
    "w_grades"
   ]
  },
  {
   "cell_type": "code",
   "execution_count": 4,
   "metadata": {},
   "outputs": [
    {
     "name": "stdout",
     "output_type": "stream",
     "text": [
      "全班加權平均[59.145 45.875 48.245]\n"
     ]
    }
   ],
   "source": [
    " mean = np.mean(w_grades,1)\n",
    "print(\"全班加權平均\" + str(mean))"
   ]
  },
  {
   "cell_type": "code",
   "execution_count": null,
   "metadata": {},
   "outputs": [],
   "source": []
  }
 ],
 "metadata": {
  "kernelspec": {
   "display_name": "Python 3",
   "language": "python",
   "name": "python3"
  },
  "language_info": {
   "codemirror_mode": {
    "name": "ipython",
    "version": 3
   },
   "file_extension": ".py",
   "mimetype": "text/x-python",
   "name": "python",
   "nbconvert_exporter": "python",
   "pygments_lexer": "ipython3",
   "version": "3.7.4"
  }
 },
 "nbformat": 4,
 "nbformat_minor": 2
}

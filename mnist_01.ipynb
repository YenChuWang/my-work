{
 "cells": [
  {
   "cell_type": "code",
   "execution_count": 1,
   "metadata": {},
   "outputs": [],
   "source": [
    "%matplotlib inline\n",
    "import numpy as np\n",
    "import matplotlib.pyplot as plt"
   ]
  },
  {
   "cell_type": "code",
   "execution_count": 4,
   "metadata": {},
   "outputs": [],
   "source": [
    "import tensorflow as tf"
   ]
  },
  {
   "cell_type": "code",
   "execution_count": 5,
   "metadata": {},
   "outputs": [],
   "source": [
    "from tensorflow.keras.datasets import fashion_mnist"
   ]
  },
  {
   "cell_type": "code",
   "execution_count": 19,
   "metadata": {},
   "outputs": [],
   "source": [
    "(x_train,y_train),(x_test,y_test)=fashion_mnist.load_data()"
   ]
  },
  {
   "cell_type": "code",
   "execution_count": 7,
   "metadata": {},
   "outputs": [],
   "source": [
    "class_names = ['T-shirt/top', 'Trouser', 'Pullover', 'Dress', 'Coat',\n",
    "               'Sandal', 'Shirt', 'Sneaker', 'Bag', 'Ankle boot']"
   ]
  },
  {
   "cell_type": "code",
   "execution_count": 8,
   "metadata": {},
   "outputs": [
    {
     "data": {
      "text/plain": [
       "60000"
      ]
     },
     "execution_count": 8,
     "metadata": {},
     "output_type": "execute_result"
    }
   ],
   "source": [
    "len(x_train)"
   ]
  },
  {
   "cell_type": "code",
   "execution_count": 9,
   "metadata": {},
   "outputs": [
    {
     "data": {
      "text/plain": [
       "10000"
      ]
     },
     "execution_count": 9,
     "metadata": {},
     "output_type": "execute_result"
    }
   ],
   "source": [
    "len(x_test)"
   ]
  },
  {
   "cell_type": "code",
   "execution_count": 20,
   "metadata": {},
   "outputs": [
    {
     "name": "stdout",
     "output_type": "stream",
     "text": [
      "這是 Sneaker\n"
     ]
    },
    {
     "data": {
      "image/png": "[encoded data removed]",
      "text/plain": [
       "<Figure size 432x288 with 1 Axes>"
      ]
     },
     "metadata": {
      "needs_background": "light"
     },
     "output_type": "display_data"
    }
   ],
   "source": [
    "n = 619\n",
    "print(\"這是\",class_names[y_train[n]])\n",
    "plt.imshow(x_train[n], cmap='Greys');"
   ]
  },
  {
   "cell_type": "code",
   "execution_count": 21,
   "metadata": {},
   "outputs": [
    {
     "data": {
      "image/png": "[encoded data removed]",
      "text/plain": [
       "<Figure size 432x288 with 5 Axes>"
      ]
     },
     "metadata": {},
     "output_type": "display_data"
    }
   ],
   "source": [
    "pick = np.random.choice(60000, 5, replace=False)\n",
    "\n",
    "for i in range(5):\n",
    "    n = pick[i]\n",
    "    ax = plt.subplot(151+i)\n",
    "    ax.set_xticks([])\n",
    "    ax.set_yticks([])\n",
    "    ax.set_title(class_names[y_train[n]], fontsize=10)\n",
    "    plt.imshow(x_train[n], cmap='Greys') "
   ]
  },
  {
   "cell_type": "code",
   "execution_count": 22,
   "metadata": {},
   "outputs": [],
   "source": [
    "x_train = x_train/255\n",
    "x_test = x_test/255"
   ]
  },
  {
   "cell_type": "code",
   "execution_count": 23,
   "metadata": {},
   "outputs": [
    {
     "data": {
      "text/plain": [
       "(60000, 28, 28)"
      ]
     },
     "execution_count": 23,
     "metadata": {},
     "output_type": "execute_result"
    }
   ],
   "source": [
    "x_train.shape"
   ]
  },
  {
   "cell_type": "code",
   "execution_count": 24,
   "metadata": {},
   "outputs": [],
   "source": [
    "x_train = x_train.reshape(60000,784)\n",
    "x_test = x_test.reshape(10000,784)"
   ]
  },
  {
   "cell_type": "code",
   "execution_count": 25,
   "metadata": {},
   "outputs": [],
   "source": [
    "from tensorflow.keras.utils import to_categorical"
   ]
  },
  {
   "cell_type": "code",
   "execution_count": 28,
   "metadata": {},
   "outputs": [],
   "source": [
    "y_train = to_categorical(y_train,10)\n",
    "y_teat = to_categorical(y_test,10)"
   ]
  },
  {
   "cell_type": "code",
   "execution_count": 29,
   "metadata": {},
   "outputs": [
    {
     "data": {
      "text/plain": [
       "array([0., 0., 0., 0., 0., 0., 0., 1., 0., 0.], dtype=float32)"
      ]
     },
     "execution_count": 29,
     "metadata": {},
     "output_type": "execute_result"
    }
   ],
   "source": [
    "y_train[619]"
   ]
  },
  {
   "cell_type": "code",
   "execution_count": 30,
   "metadata": {},
   "outputs": [],
   "source": [
    "from tensorflow.keras.models import Sequential\n",
    "from tensorflow.keras.layers import Dense\n",
    "from tensorflow.keras.optimizers import SGD"
   ]
  },
  {
   "cell_type": "code",
   "execution_count": 31,
   "metadata": {},
   "outputs": [],
   "source": [
    "model = Sequential()"
   ]
  },
  {
   "cell_type": "code",
   "execution_count": 33,
   "metadata": {},
   "outputs": [],
   "source": [
    "model.add(Dense(69,input_dim=784,activation='relu'))\n",
    "model.add(Dense(69,activation='relu'))\n",
    "model.add(Dense(10,activation='softmax'))"
   ]
  },
  {
   "cell_type": "code",
   "execution_count": 34,
   "metadata": {},
   "outputs": [],
   "source": [
    "model.compile(loss='mse', optimizer=SGD(lr=0.0825), metrics=['accuracy'])"
   ]
  },
  {
   "cell_type": "code",
   "execution_count": 35,
   "metadata": {},
   "outputs": [
    {
     "name": "stdout",
     "output_type": "stream",
     "text": [
      "Model: \"sequential\"\n",
      "_________________________________________________________________\n",
      "Layer (type)                 Output Shape              Param #   \n",
      "=================================================================\n",
      "dense (Dense)                (None, 69)                54165     \n",
      "_________________________________________________________________\n",
      "dense_1 (Dense)              (None, 69)                4830      \n",
      "_________________________________________________________________\n",
      "dense_2 (Dense)              (None, 69)                4830      \n",
      "_________________________________________________________________\n",
      "dense_3 (Dense)              (None, 69)                4830      \n",
      "_________________________________________________________________\n",
      "dense_4 (Dense)              (None, 69)                4830      \n",
      "_________________________________________________________________\n",
      "dense_5 (Dense)              (None, 10)                700       \n",
      "=================================================================\n",
      "Total params: 74,185\n",
      "Trainable params: 74,185\n",
      "Non-trainable params: 0\n",
      "_________________________________________________________________\n"
     ]
    }
   ],
   "source": [
    "model.summary()"
   ]
  },
  {
   "cell_type": "code",
   "execution_count": 36,
   "metadata": {},
   "outputs": [
    {
     "data": {
      "text/plain": [
       "54165"
      ]
     },
     "execution_count": 36,
     "metadata": {},
     "output_type": "execute_result"
    }
   ],
   "source": [
    "784*69+69"
   ]
  },
  {
   "cell_type": "code",
   "execution_count": 37,
   "metadata": {},
   "outputs": [
    {
     "name": "stdout",
     "output_type": "stream",
     "text": [
      "Train on 60000 samples\n",
      "Epoch 1/25\n",
      "60000/60000 [==============================] - 3s 55us/sample - loss: 0.0892 - accuracy: 0.1318\n",
      "Epoch 2/25\n",
      "60000/60000 [==============================] - 2s 31us/sample - loss: 0.0826 - accuracy: 0.3152\n",
      "Epoch 3/25\n",
      "60000/60000 [==============================] - 2s 34us/sample - loss: 0.0649 - accuracy: 0.5435\n",
      "Epoch 4/25\n",
      "60000/60000 [==============================] - 2s 32us/sample - loss: 0.0434 - accuracy: 0.6830\n",
      "Epoch 5/25\n",
      "60000/60000 [==============================] - 2s 32us/sample - loss: 0.0356 - accuracy: 0.7610\n",
      "Epoch 6/25\n",
      "60000/60000 [==============================] - 2s 29us/sample - loss: 0.0309 - accuracy: 0.7938\n",
      "Epoch 7/25\n",
      "60000/60000 [==============================] - 2s 29us/sample - loss: 0.0284 - accuracy: 0.8079\n",
      "Epoch 8/25\n",
      "60000/60000 [==============================] - 2s 34us/sample - loss: 0.0268 - accuracy: 0.8167\n",
      "Epoch 9/25\n",
      "60000/60000 [==============================] - 2s 32us/sample - loss: 0.0256 - accuracy: 0.8257\n",
      "Epoch 10/25\n",
      "60000/60000 [==============================] - 2s 28us/sample - loss: 0.0249 - accuracy: 0.8303\n",
      "Epoch 11/25\n",
      "60000/60000 [==============================] - 2s 28us/sample - loss: 0.0241 - accuracy: 0.8349\n",
      "Epoch 12/25\n",
      "60000/60000 [==============================] - 2s 28us/sample - loss: 0.0235 - accuracy: 0.8393\n",
      "Epoch 13/25\n",
      "60000/60000 [==============================] - 2s 34us/sample - loss: 0.0230 - accuracy: 0.8425\n",
      "Epoch 14/25\n",
      "60000/60000 [==============================] - 2s 36us/sample - loss: 0.0226 - accuracy: 0.8453\n",
      "Epoch 15/25\n",
      "60000/60000 [==============================] - 2s 34us/sample - loss: 0.0222 - accuracy: 0.8488\n",
      "Epoch 16/25\n",
      "60000/60000 [==============================] - 2s 34us/sample - loss: 0.0218 - accuracy: 0.8514\n",
      "Epoch 17/25\n",
      "60000/60000 [==============================] - 2s 37us/sample - loss: 0.0215 - accuracy: 0.8525\n",
      "Epoch 18/25\n",
      "60000/60000 [==============================] - 2s 35us/sample - loss: 0.0212 - accuracy: 0.8553\n",
      "Epoch 19/25\n",
      "60000/60000 [==============================] - 2s 34us/sample - loss: 0.0210 - accuracy: 0.8567\n",
      "Epoch 20/25\n",
      "60000/60000 [==============================] - 2s 33us/sample - loss: 0.0207 - accuracy: 0.8598\n",
      "Epoch 21/25\n",
      "60000/60000 [==============================] - 2s 33us/sample - loss: 0.0205 - accuracy: 0.8597\n",
      "Epoch 22/25\n",
      "60000/60000 [==============================] - 2s 35us/sample - loss: 0.0203 - accuracy: 0.8621\n",
      "Epoch 23/25\n",
      "60000/60000 [==============================] - 2s 35us/sample - loss: 0.0201 - accuracy: 0.8634\n",
      "Epoch 24/25\n",
      "60000/60000 [==============================] - 2s 35us/sample - loss: 0.0199 - accuracy: 0.8652\n",
      "Epoch 25/25\n",
      "60000/60000 [==============================] - 2s 37us/sample - loss: 0.0197 - accuracy: 0.8663\n"
     ]
    },
    {
     "data": {
      "text/plain": [
       "<tensorflow.python.keras.callbacks.History at 0x1f6255d2dc8>"
      ]
     },
     "execution_count": 37,
     "metadata": {},
     "output_type": "execute_result"
    }
   ],
   "source": [
    "model.fit(x_train, y_train, batch_size=99, epochs=25)"
   ]
  },
  {
   "cell_type": "code",
   "execution_count": 38,
   "metadata": {},
   "outputs": [],
   "source": [
    "result = model.predict_classes(x_test)"
   ]
  },
  {
   "cell_type": "code",
   "execution_count": 39,
   "metadata": {},
   "outputs": [],
   "source": [
    "def show_result(p):\n",
    "    print('神經網路說是:',class_names[result[p]])\n",
    "    plt.imshow(x_test[p].reshape(28,28),cmap='Greys')"
   ]
  },
  {
   "cell_type": "code",
   "execution_count": 43,
   "metadata": {},
   "outputs": [
    {
     "name": "stdout",
     "output_type": "stream",
     "text": [
      "神經網路說是: Shirt\n"
     ]
    },
    {
     "data": {
      "image/png": "[encoded data removed]",
      "text/plain": [
       "<Figure size 432x288 with 1 Axes>"
      ]
     },
     "metadata": {
      "needs_background": "light"
     },
     "output_type": "display_data"
    }
   ],
   "source": [
    "show_result(17)"
   ]
  },
  {
   "cell_type": "code",
   "execution_count": 42,
   "metadata": {},
   "outputs": [
    {
     "name": "stdout",
     "output_type": "stream",
     "text": [
      "神經網路說是: Trouser\n"
     ]
    },
    {
     "data": {
      "image/png": "[encoded data removed]",
      "text/plain": [
       "<Figure size 432x288 with 1 Axes>"
      ]
     },
     "metadata": {
      "needs_background": "light"
     },
     "output_type": "display_data"
    }
   ],
   "source": [
    "show_result(825)"
   ]
  },
  {
   "cell_type": "code",
   "execution_count": 44,
   "metadata": {},
   "outputs": [
    {
     "name": "stdout",
     "output_type": "stream",
     "text": [
      "神經網路說是: Bag\n"
     ]
    },
    {
     "data": {
      "image/png": "[encoded data removed]",
      "text/plain": [
       "<Figure size 432x288 with 1 Axes>"
      ]
     },
     "metadata": {
      "needs_background": "light"
     },
     "output_type": "display_data"
    }
   ],
   "source": [
    "show_result(619)"
   ]
  },
  {
   "cell_type": "code",
   "execution_count": null,
   "metadata": {},
   "outputs": [],
   "source": []
  }
 ],
 "metadata": {
  "kernelspec": {
   "display_name": "Python 3",
   "language": "python",
   "name": "python3"
  },
  "language_info": {
   "codemirror_mode": {
    "name": "ipython",
    "version": 3
   },
   "file_extension": ".py",
   "mimetype": "text/x-python",
   "name": "python",
   "nbconvert_exporter": "python",
   "pygments_lexer": "ipython3",
   "version": "3.7.4"
  }
 },
 "nbformat": 4,
 "nbformat_minor": 2
}

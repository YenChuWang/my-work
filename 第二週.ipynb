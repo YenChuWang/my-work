{
 "cells": [
  {
   "cell_type": "code",
   "execution_count": 1,
   "metadata": {},
   "outputs": [],
   "source": [
    "%matplotlib inline\n",
    "import numpy as np\n",
    "import matplotlib.pyplot as plt"
   ]
  },
  {
   "cell_type": "code",
   "execution_count": 3,
   "metadata": {},
   "outputs": [],
   "source": [
    "import random"
   ]
  },
  {
   "cell_type": "code",
   "execution_count": 38,
   "metadata": {},
   "outputs": [
    {
     "name": "stdout",
     "output_type": "stream",
     "text": [
      "[0]剪刀[1]石頭[2]布!2\n",
      "你的選擇 2\n",
      "對手的選擇 0\n",
      "你輸了嗚嗚嗚嗚\n"
     ]
    }
   ],
   "source": [
    "your_choice = int(input(\"[0]剪刀[1]石頭[2]布!\"))\n",
    "print(\"你的選擇\",your_choice )\n",
    "my_choice = random.randint(0,2)\n",
    "print(\"對手的選擇\",my_choice)\n",
    "\n",
    "if your_choice == (my_choice + 1) % 3:\n",
    "    print(\"恭喜老爺賀喜小姐~您獲勝了\")\n",
    "elif your_choice == my_choice:\n",
    "    print(\"太有默契了吧!平手\")\n",
    "else:\n",
    "    print(\"你輸了嗚嗚嗚嗚\")"
   ]
  },
  {
   "cell_type": "code",
   "execution_count": null,
   "metadata": {},
   "outputs": [],
   "source": []
  }
 ],
 "metadata": {
  "kernelspec": {
   "display_name": "Python 3",
   "language": "python",
   "name": "python3"
  },
  "language_info": {
   "codemirror_mode": {
    "name": "ipython",
    "version": 3
   },
   "file_extension": ".py",
   "mimetype": "text/x-python",
   "name": "python",
   "nbconvert_exporter": "python",
   "pygments_lexer": "ipython3",
   "version": "3.7.4"
  }
 },
 "nbformat": 4,
 "nbformat_minor": 2
}

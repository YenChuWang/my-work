{
 "cells": [
  {
   "cell_type": "code",
   "execution_count": 1,
   "metadata": {},
   "outputs": [
    {
     "name": "stdout",
     "output_type": "stream",
     "text": [
      "Populating the interactive namespace from numpy and matplotlib\n",
      "輸入一個數字23\n",
      "大一點大一點!\n",
      "再輸入一個數字56\n",
      "大一點大一點!\n",
      "再輸入一個數字66\n",
      "太大了!換小一點\n",
      "再輸入一個數字62\n",
      "太大了!換小一點\n",
      "再輸入一個數字61\n",
      "太大了!換小一點\n",
      "再輸入一個數字59\n",
      "大一點大一點!\n",
      "再輸入一個數字60\n",
      "答對了!答案是60\n"
     ]
    }
   ],
   "source": [
    "%pylab inline\n",
    "import numpy as np\n",
    "answer = randint(1,101)\n",
    "guess = int(input(\"輸入一個數字\"))\n",
    "while guess != answer :\n",
    "    if guess > answer :\n",
    "        print(\"太大了!換小一點\")\n",
    "        guess = int(input(\"再輸入一個數字\"))\n",
    "    elif guess < answer :\n",
    "        print(\"大一點大一點!\")\n",
    "        guess = int(input(\"再輸入一個數字\"))\n",
    "print(\"答對了!答案是\" + str(answer))"
   ]
  },
  {
   "cell_type": "code",
   "execution_count": null,
   "metadata": {},
   "outputs": [],
   "source": []
  }
 ],
 "metadata": {
  "kernelspec": {
   "display_name": "Python 3",
   "language": "python",
   "name": "python3"
  },
  "language_info": {
   "codemirror_mode": {
    "name": "ipython",
    "version": 3
   },
   "file_extension": ".py",
   "mimetype": "text/x-python",
   "name": "python",
   "nbconvert_exporter": "python",
   "pygments_lexer": "ipython3",
   "version": "3.7.4"
  }
 },
 "nbformat": 4,
 "nbformat_minor": 2
}

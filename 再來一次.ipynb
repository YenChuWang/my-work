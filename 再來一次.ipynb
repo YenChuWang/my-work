{
 "cells": [
  {
   "cell_type": "code",
   "execution_count": 1,
   "metadata": {},
   "outputs": [],
   "source": [
    "%matplotlib inline\n",
    "import numpy as np\n",
    "import matplotlib.pyplot as plt\n",
    "import math\n",
    "from scipy import stats"
   ]
  },
  {
   "cell_type": "code",
   "execution_count": 7,
   "metadata": {},
   "outputs": [
    {
     "name": "stdout",
     "output_type": "stream",
     "text": [
      "[ 0  1  2  3  4  5  6  7  8  9 10 11 12 13 14 15 16 17 18 19 20]\n",
      "********************\n",
      "[3.65615844e-05 4.87487792e-04 3.08742268e-03 1.23496907e-02\n",
      " 3.49907904e-02 7.46470195e-02 1.24411699e-01 1.65882266e-01\n",
      " 1.79705788e-01 1.59738478e-01 1.17141551e-01 7.09948791e-02\n",
      " 3.54974396e-02 1.45630521e-02 4.85435071e-03 1.29449352e-03\n",
      " 2.69686150e-04 4.23037099e-05 4.70041221e-06 3.29853488e-07\n",
      " 1.09951163e-08]\n"
     ]
    }
   ],
   "source": [
    "n = 20\n",
    "p = 0.4\n",
    "k = np.arange(21)\n",
    "print(k)\n",
    "print(\"*\"*20)\n",
    "binomal = stats.binom.pmf(k,n,p)\n",
    "print(binomal)"
   ]
  },
  {
   "cell_type": "code",
   "execution_count": null,
   "metadata": {},
   "outputs": [],
   "source": [
    "plt.plot(k,binomial,)"
   ]
  }
 ],
 "metadata": {
  "kernelspec": {
   "display_name": "Python 3",
   "language": "python",
   "name": "python3"
  },
  "language_info": {
   "codemirror_mode": {
    "name": "ipython",
    "version": 3
   },
   "file_extension": ".py",
   "mimetype": "text/x-python",
   "name": "python",
   "nbconvert_exporter": "python",
   "pygments_lexer": "ipython3",
   "version": "3.7.4"
  }
 },
 "nbformat": 4,
 "nbformat_minor": 2
}

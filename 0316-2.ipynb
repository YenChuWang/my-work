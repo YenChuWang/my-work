{
 "cells": [
  {
   "cell_type": "code",
   "execution_count": 1,
   "metadata": {},
   "outputs": [
    {
     "name": "stdout",
     "output_type": "stream",
     "text": [
      "請輸入年2008\n",
      "請輸入月3\n",
      "請輸入日6\n",
      "距今 4393 天前\n",
      "距今 78283 分鐘前\n"
     ]
    }
   ],
   "source": [
    "from datetime import (datetime,timedelta)\n",
    "a = int(input(\"請輸入年\"))\n",
    "b = int(input(\"請輸入月\"))\n",
    "c = int(input(\"請輸入日\"))\n",
    "now = datetime.now()\n",
    "after = datetime(a,b,c)  \n",
    "delta = now-after\n",
    "print(\"距今\",delta.days,\"天前\")\n",
    "print(\"距今\",delta.seconds,\"分鐘前\")"
   ]
  },
  {
   "cell_type": "code",
   "execution_count": null,
   "metadata": {},
   "outputs": [],
   "source": []
  }
 ],
 "metadata": {
  "kernelspec": {
   "display_name": "Python 3",
   "language": "python",
   "name": "python3"
  },
  "language_info": {
   "codemirror_mode": {
    "name": "ipython",
    "version": 3
   },
   "file_extension": ".py",
   "mimetype": "text/x-python",
   "name": "python",
   "nbconvert_exporter": "python",
   "pygments_lexer": "ipython3",
   "version": "3.7.4"
  }
 },
 "nbformat": 4,
 "nbformat_minor": 2
}

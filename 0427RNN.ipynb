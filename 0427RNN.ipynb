{
 "cells": [
  {
   "cell_type": "markdown",
   "metadata": {},
   "source": [
    "修改的地方\n",
    "#Maxlen改為250\n",
    "#LSTM為128\n",
    "#Dropout為0.1\n",
    "#batch_size為32\n",
    "#epochs為12 "
   ]
  },
  {
   "cell_type": "code",
   "execution_count": 1,
   "metadata": {},
   "outputs": [],
   "source": [
    "%matplotlib inline\n",
    "import numpy as np\n",
    "import matplotlib.pyplot as plt\n",
    "import pandas as pd"
   ]
  },
  {
   "cell_type": "code",
   "execution_count": 2,
   "metadata": {},
   "outputs": [],
   "source": [
    "from tensorflow.keras.preprocessing import sequence\n",
    "from tensorflow.keras.models import Sequential\n",
    "from tensorflow.keras.layers import Dense, Embedding\n",
    "from tensorflow.keras.layers import LSTM\n",
    "from tensorflow.keras.datasets import imdb"
   ]
  },
  {
   "cell_type": "code",
   "execution_count": 3,
   "metadata": {},
   "outputs": [],
   "source": [
    "(x_train, y_train), (x_test, y_test) = imdb.load_data(num_words=10000)"
   ]
  },
  {
   "cell_type": "code",
   "execution_count": 4,
   "metadata": {},
   "outputs": [],
   "source": [
    "x_train = sequence.pad_sequences(x_train, maxlen=250)\n",
    "x_test = sequence.pad_sequences(x_test, maxlen=250)"
   ]
  },
  {
   "cell_type": "code",
   "execution_count": 5,
   "metadata": {},
   "outputs": [
    {
     "name": "stdout",
     "output_type": "stream",
     "text": [
      "Model: \"sequential\"\n",
      "_________________________________________________________________\n",
      "Layer (type)                 Output Shape              Param #   \n",
      "=================================================================\n",
      "embedding (Embedding)        (None, None, 128)         1280000   \n",
      "_________________________________________________________________\n",
      "lstm (LSTM)                  (None, 128)               131584    \n",
      "_________________________________________________________________\n",
      "dense (Dense)                (None, 1)                 129       \n",
      "=================================================================\n",
      "Total params: 1,411,713\n",
      "Trainable params: 1,411,713\n",
      "Non-trainable params: 0\n",
      "_________________________________________________________________\n"
     ]
    }
   ],
   "source": [
    "model=Sequential()\n",
    "model.add(Embedding(10000,128))\n",
    "model.add(LSTM(128, dropout=0.1, recurrent_dropout=0.1))\n",
    "model.add(Dense(1, activation='sigmoid'))\n",
    "model.compile(loss='binary_crossentropy', optimizer='adam', metrics=['accuracy'])\n",
    "model.summary()"
   ]
  },
  {
   "cell_type": "code",
   "execution_count": 6,
   "metadata": {},
   "outputs": [
    {
     "name": "stdout",
     "output_type": "stream",
     "text": [
      "Train on 25000 samples, validate on 25000 samples\n",
      "Epoch 1/12\n",
      "25000/25000 [==============================] - 730s 29ms/sample - loss: 0.4387 - accuracy: 0.7939 - val_loss: 0.3804 - val_accuracy: 0.8427\n",
      "Epoch 2/12\n",
      "25000/25000 [==============================] - 726s 29ms/sample - loss: 0.3147 - accuracy: 0.8720 - val_loss: 0.3385 - val_accuracy: 0.8627\n",
      "Epoch 3/12\n",
      "25000/25000 [==============================] - 729s 29ms/sample - loss: 0.2408 - accuracy: 0.9070 - val_loss: 0.3320 - val_accuracy: 0.8641\n",
      "Epoch 4/12\n",
      "25000/25000 [==============================] - 725s 29ms/sample - loss: 0.1989 - accuracy: 0.9236 - val_loss: 0.3962 - val_accuracy: 0.8338\n",
      "Epoch 5/12\n",
      "25000/25000 [==============================] - 725s 29ms/sample - loss: 0.1522 - accuracy: 0.9437 - val_loss: 0.4147 - val_accuracy: 0.8614\n",
      "Epoch 6/12\n",
      "25000/25000 [==============================] - 728s 29ms/sample - loss: 0.1154 - accuracy: 0.9595 - val_loss: 0.4679 - val_accuracy: 0.8516\n",
      "Epoch 7/12\n",
      "25000/25000 [==============================] - 726s 29ms/sample - loss: 0.0947 - accuracy: 0.9673 - val_loss: 0.4591 - val_accuracy: 0.8575\n",
      "Epoch 8/12\n",
      "25000/25000 [==============================] - 726s 29ms/sample - loss: 0.0922 - accuracy: 0.9674 - val_loss: 0.5378 - val_accuracy: 0.8578\n",
      "Epoch 9/12\n",
      "25000/25000 [==============================] - 726s 29ms/sample - loss: 0.0526 - accuracy: 0.9839 - val_loss: 0.5753 - val_accuracy: 0.8436\n",
      "Epoch 10/12\n",
      "25000/25000 [==============================] - 728s 29ms/sample - loss: 0.0439 - accuracy: 0.9868 - val_loss: 0.6362 - val_accuracy: 0.8528\n",
      "Epoch 11/12\n",
      "25000/25000 [==============================] - 749s 30ms/sample - loss: 0.0412 - accuracy: 0.9861 - val_loss: 0.6470 - val_accuracy: 0.8491\n",
      "Epoch 12/12\n",
      "25000/25000 [==============================] - 724s 29ms/sample - loss: 0.0277 - accuracy: 0.9918 - val_loss: 0.7184 - val_accuracy: 0.8549\n"
     ]
    },
    {
     "data": {
      "text/plain": [
       "<tensorflow.python.keras.callbacks.History at 0x2bd2b2bb188>"
      ]
     },
     "execution_count": 6,
     "metadata": {},
     "output_type": "execute_result"
    }
   ],
   "source": [
    "model.fit(x_train,y_train,batch_size=32,epochs=12,\n",
    "         validation_data=(x_test,y_test))"
   ]
  },
  {
   "cell_type": "code",
   "execution_count": 7,
   "metadata": {},
   "outputs": [
    {
     "name": "stdout",
     "output_type": "stream",
     "text": [
      "25000/25000 [==============================] - 85s 3ms/sample - loss: 0.7184 - accuracy: 0.8549\n",
      "準確率： 0.85492\n"
     ]
    }
   ],
   "source": [
    "loss, acc = model.evaluate(x_test, y_test)\n",
    "print(\"準確率：\", acc)"
   ]
  },
  {
   "cell_type": "code",
   "execution_count": null,
   "metadata": {},
   "outputs": [],
   "source": []
  }
 ],
 "metadata": {
  "kernelspec": {
   "display_name": "Python 3",
   "language": "python",
   "name": "python3"
  },
  "language_info": {
   "codemirror_mode": {
    "name": "ipython",
    "version": 3
   },
   "file_extension": ".py",
   "mimetype": "text/x-python",
   "name": "python",
   "nbconvert_exporter": "python",
   "pygments_lexer": "ipython3",
   "version": "3.7.4"
  }
 },
 "nbformat": 4,
 "nbformat_minor": 2
}
